{
 "cells": [
  {
   "cell_type": "code",
   "execution_count": null,
   "id": "e600e1fb",
   "metadata": {},
   "outputs": [],
   "source": [
    "import numpy as np\n",
    "import matplotlib.pyplot as plt\n",
    "%matplotlib notebook\n",
    "\n",
    "# If the icetemperature library is not in your PYTHONPATH, you will not be able to load those functions\n",
    "# Check and update here if necessary\n",
    "import sys\n",
    "cs_dir = '../'\n",
    "if cs_dir not in sys.path:\n",
    "    sys.path.append(cs_dir)\n",
    "\n",
    "# Import the ice temperature model and relevant constants\n",
    "from icetemperature.lib.model import ice_temperature\n",
    "from icetemperature.lib.analytical_functions import conductivity, heat_capacity\n",
    "from icetemperature.lib.constants import constants\n",
    "const = constants()"
   ]
  },
  {
   "cell_type": "code",
   "execution_count": null,
   "id": "aa704200",
   "metadata": {},
   "outputs": [],
   "source": []
  }
 ],
 "metadata": {
  "kernelspec": {
   "display_name": "Python 3",
   "language": "python",
   "name": "python3"
  },
  "language_info": {
   "codemirror_mode": {
    "name": "ipython",
    "version": 3
   },
   "file_extension": ".py",
   "mimetype": "text/x-python",
   "name": "python",
   "nbconvert_exporter": "python",
   "pygments_lexer": "ipython3",
   "version": "3.8.8"
  }
 },
 "nbformat": 4,
 "nbformat_minor": 5
}
