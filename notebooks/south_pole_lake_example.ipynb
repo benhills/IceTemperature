{
 "cells": [
  {
   "cell_type": "code",
   "execution_count": null,
   "id": "33f8d272",
   "metadata": {},
   "outputs": [],
   "source": [
    "import numpy as np\n",
    "import matplotlib.pyplot as plt\n",
    "%matplotlib notebook\n",
    "\n",
    "# If the icetemperature library is not in your PYTHONPATH, you will not be able to load those functions\n",
    "# Check and update here if necessary\n",
    "import sys\n",
    "cs_dir = '../'\n",
    "if cs_dir not in sys.path:\n",
    "    sys.path.append(cs_dir)\n",
    "\n",
    "from icetemperature.lib.model import ice_temperature\n",
    "from icetemperature.lib.analytical_functions import conductivity, heat_capacity\n",
    "from icetemperature.lib.constants import constants\n",
    "const = constants()\n",
    "\n",
    "from scipy.interpolate import interp1d"
   ]
  },
  {
   "cell_type": "code",
   "execution_count": null,
   "id": "583b31f5",
   "metadata": {},
   "outputs": [],
   "source": [
    "# Numbers as input to forward model\n",
    "z_data,T_data,C_data = np.transpose(np.load('../data/compiled_insitu_icetemp.npy'))\n",
    "model_accumulation = np.load('../data/paleoAccumulation.npy')\n",
    "model_airTemp = np.load('../data/paleoAirTemperature.npy')\n",
    "ts = model_accumulation[0]\n",
    "adot = model_accumulation[1]\n",
    "Tsurf = model_airTemp[1]\n",
    "\n",
    "data = np.genfromtxt('../data/SP19_Depth_Age.csv',skip_header=1,delimiter=',')\n",
    "z_rho = data[:,0]\n",
    "rho_data = data[:,5]\n",
    "\n",
    "H = 2875.\n",
    "z_data[-1] = -H\n",
    "T_data[-1] = const.rho*const.g*const.beta*H"
   ]
  },
  {
   "cell_type": "code",
   "execution_count": null,
   "id": "2afb9392",
   "metadata": {},
   "outputs": [],
   "source": [
    "plt.figure(figsize=(6,6))\n",
    "\n",
    "ax1 = plt.subplot(211)\n",
    "plt.tick_params(labelbottom=False)\n",
    "ax1.plot((ts-np.max(ts))/1000.,Tsurf,'k')\n",
    "plt.ylabel('Temperature ($^\\circ$C)')\n",
    "\n",
    "ax2 = plt.subplot(212)\n",
    "ax2.plot((ts-np.max(ts))/1000.,adot,'k')\n",
    "plt.ylabel('Accumulation (m/yr)')\n",
    "plt.xlabel('kyr');"
   ]
  },
  {
   "cell_type": "code",
   "execution_count": null,
   "id": "a3561c54",
   "metadata": {},
   "outputs": [],
   "source": [
    "m = ice_temperature()\n",
    "m.ts = ts*const.spy\n",
    "m.adot = adot/const.spy\n",
    "m.Ts = Tsurf\n",
    "m.H = H\n",
    "\n",
    "m.qgeo = .06\n",
    "m.p = 1000.\n",
    "m.Udef = 0.0/const.spy\n",
    "m.Uslide = 9.3/const.spy\n",
    "\n",
    "m.flags.append('weertman_vel')\n",
    "m.dTs = 7.5e-6\n",
    "\n",
    "m.flags.append('temp-dependent')\n",
    "m.initial_conditions()\n",
    "rho_interpolator = interp1d(m.H-z_rho,rho_data,fill_value='extrapolate')\n",
    "m.rho = 1000.*rho_interpolator(m.z)\n",
    "m.k = conductivity(m.T.copy(),m.rho)\n",
    "m.Cp = heat_capacity(m.T.copy(),m.rho)\n",
    "\n",
    "m.source_terms()\n",
    "m.stencil()\n",
    "m.run_to_steady_state()\n",
    "\n",
    "m.flags.append('save_all')\n",
    "\n",
    "m.run()"
   ]
  },
  {
   "cell_type": "code",
   "execution_count": null,
   "id": "e9a36705",
   "metadata": {},
   "outputs": [],
   "source": [
    "plt.figure(figsize=(4,4))\n",
    "plt.plot(T_data,z_data,'k.')\n",
    "plt.plot(m.T,m.z-m.H,c='indianred')\n",
    "plt.ylabel('Depth (m)')\n",
    "plt.xlabel('Temperature ($^\\circ$C)')\n",
    "\n",
    "plt.tight_layout()"
   ]
  }
 ],
 "metadata": {
  "kernelspec": {
   "display_name": "Python 3",
   "language": "python",
   "name": "python3"
  },
  "language_info": {
   "codemirror_mode": {
    "name": "ipython",
    "version": 3
   },
   "file_extension": ".py",
   "mimetype": "text/x-python",
   "name": "python",
   "nbconvert_exporter": "python",
   "pygments_lexer": "ipython3",
   "version": "3.8.8"
  }
 },
 "nbformat": 4,
 "nbformat_minor": 5
}
